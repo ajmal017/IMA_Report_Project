{
 "cells": [
  {
   "cell_type": "code",
   "execution_count": 12,
   "metadata": {},
   "outputs": [],
   "source": [
    "import pandas as pd\n",
    "import pandas_datareader as web\n",
    "from datetime import datetime\n",
    "from datetime import timedelta\n",
    "from operator import itemgetter"
   ]
  },
  {
   "cell_type": "code",
   "execution_count": 13,
   "metadata": {},
   "outputs": [],
   "source": [
    "today = datetime.today().date()"
   ]
  },
  {
   "cell_type": "code",
   "execution_count": 16,
   "metadata": {},
   "outputs": [],
   "source": [
    "start = today.strftime(\"%Y-%m-01\")"
   ]
  },
  {
   "cell_type": "code",
   "execution_count": 17,
   "metadata": {},
   "outputs": [],
   "source": [
    "a = int(start.split(\"-\")[1])"
   ]
  },
  {
   "cell_type": "code",
   "execution_count": 18,
   "metadata": {},
   "outputs": [],
   "source": [
    "if a == 2:\n",
    "    number = 28\n",
    "elif a == 4 or 6 or 9 or 11:\n",
    "    number = 30\n",
    "else:\n",
    "    number = 31"
   ]
  },
  {
   "cell_type": "code",
   "execution_count": 19,
   "metadata": {},
   "outputs": [],
   "source": [
    "beginning = today - timedelta(days = number)"
   ]
  },
  {
   "cell_type": "code",
   "execution_count": 20,
   "metadata": {},
   "outputs": [],
   "source": [
    "tickers = {'YETI': {'Basis':50.00},\n",
    " 'CARG': {'Basis':22.51},\n",
    " 'PLNT': {'Basis':79.08},\n",
    " 'EYE': {'Basis':32.32},\n",
    " 'BRBR': {'Basis':15.97},\n",
    " 'GSBC': {'Basis':62.46},\n",
    " 'HOMB': {'Basis':12.96},\n",
    " 'WSFS': {'Basis':23.70},\n",
    " 'ARES': {'Basis':17.41},\n",
    " 'KMPR': {'Basis':78.78},\n",
    " 'CDNA': {'Basis':14.19},\n",
    " 'RGEN': {'Basis':105.04},\n",
    " 'CTLT': {'Basis':48.60},\n",
    " 'ASGN': {'Basis':60.56},\n",
    " 'TREX': {'Basis':87.66},\n",
    " 'GLDD': {'Basis':7.66},\n",
    " 'SAVE': {'Basis':12.64},\n",
    " 'BRKS': {'Basis':36.40},\n",
    " 'SPSC': {'Basis':51.33},\n",
    " 'VSH': {'Basis':16.32},\n",
    " 'AVNT': {'Basis':23.43},\n",
    " 'MNR': {'Basis':13.51},\n",
    " 'ORA': {'Basis':62.95},\n",
    " 'STAG': {'Basis':26.03}}"
   ]
  },
  {
   "cell_type": "code",
   "execution_count": 21,
   "metadata": {},
   "outputs": [],
   "source": [
    "return_drivers = {}"
   ]
  },
  {
   "cell_type": "code",
   "execution_count": 22,
   "metadata": {},
   "outputs": [],
   "source": [
    "for i in tickers:\n",
    "    close = web.DataReader(i, 'yahoo', beginning, today)['Adj Close']\n",
    "    y = (((close[-1] - close[0])/(close[0]))*100)\n",
    "    z = round(y,2)\n",
    "    return_drivers[i] = z"
   ]
  },
  {
   "cell_type": "code",
   "execution_count": 23,
   "metadata": {},
   "outputs": [],
   "source": [
    "five_largest = dict(sorted(return_drivers.items(), key = itemgetter(1), reverse = True)[:5])"
   ]
  },
  {
   "cell_type": "code",
   "execution_count": 24,
   "metadata": {},
   "outputs": [
    {
     "data": {
      "text/plain": [
       "{'CDNA': 23.49, 'RGEN': 16.94, 'CTLT': 13.46, 'SPSC': 12.0, 'BRKS': 9.33}"
      ]
     },
     "execution_count": 24,
     "metadata": {},
     "output_type": "execute_result"
    }
   ],
   "source": [
    "five_largest"
   ]
  },
  {
   "cell_type": "code",
   "execution_count": null,
   "metadata": {},
   "outputs": [],
   "source": []
  }
 ],
 "metadata": {
  "kernelspec": {
   "display_name": "Python 3",
   "language": "python",
   "name": "python3"
  },
  "language_info": {
   "codemirror_mode": {
    "name": "ipython",
    "version": 3
   },
   "file_extension": ".py",
   "mimetype": "text/x-python",
   "name": "python",
   "nbconvert_exporter": "python",
   "pygments_lexer": "ipython3",
   "version": "3.7.3"
  }
 },
 "nbformat": 4,
 "nbformat_minor": 4
}
