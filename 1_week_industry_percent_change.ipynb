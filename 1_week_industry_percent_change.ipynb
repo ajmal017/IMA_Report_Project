{
 "cells": [
  {
   "cell_type": "code",
   "execution_count": 8,
   "metadata": {},
   "outputs": [],
   "source": [
    "import pandas as pd\n",
    "import pandas_datareader as web\n",
    "from datetime import datetime\n",
    "from datetime import timedelta"
   ]
  },
  {
   "cell_type": "code",
   "execution_count": 9,
   "metadata": {},
   "outputs": [],
   "source": [
    "today = datetime.today().date()"
   ]
  },
  {
   "cell_type": "code",
   "execution_count": 10,
   "metadata": {},
   "outputs": [],
   "source": [
    "start = today - timedelta(days = 7)"
   ]
  },
  {
   "cell_type": "code",
   "execution_count": 11,
   "metadata": {},
   "outputs": [],
   "source": [
    "symbol = ['XLC', 'XLU', 'XLV', 'XLP', 'XLY', 'XLF', 'XLK', 'XLRE', 'XLB', 'XLE', 'XLI']"
   ]
  },
  {
   "cell_type": "code",
   "execution_count": 12,
   "metadata": {},
   "outputs": [],
   "source": [
    "industries = {}"
   ]
  },
  {
   "cell_type": "code",
   "execution_count": 13,
   "metadata": {},
   "outputs": [],
   "source": [
    "for i in symbol:\n",
    "    close = web.DataReader(i, 'yahoo', start, today)['Adj Close']\n",
    "    y = (((close[-1] - close[0])/(close[0]))*100)\n",
    "    z = str(round(y,2)) + '%'\n",
    "    industries[i] = z"
   ]
  },
  {
   "cell_type": "code",
   "execution_count": 14,
   "metadata": {},
   "outputs": [
    {
     "data": {
      "text/plain": [
       "{'XLC': '-2.13%',\n",
       " 'XLU': '-2.48%',\n",
       " 'XLV': '-5.28%',\n",
       " 'XLP': '-4.26%',\n",
       " 'XLY': '-3.63%',\n",
       " 'XLF': '-5.48%',\n",
       " 'XLK': '-4.39%',\n",
       " 'XLRE': '-2.91%',\n",
       " 'XLB': '-3.85%',\n",
       " 'XLE': '-6.48%',\n",
       " 'XLI': '-6.09%'}"
      ]
     },
     "execution_count": 14,
     "metadata": {},
     "output_type": "execute_result"
    }
   ],
   "source": [
    "industries"
   ]
  },
  {
   "cell_type": "code",
   "execution_count": null,
   "metadata": {},
   "outputs": [],
   "source": []
  }
 ],
 "metadata": {
  "kernelspec": {
   "display_name": "Python 3",
   "language": "python",
   "name": "python3"
  },
  "language_info": {
   "codemirror_mode": {
    "name": "ipython",
    "version": 3
   },
   "file_extension": ".py",
   "mimetype": "text/x-python",
   "name": "python",
   "nbconvert_exporter": "python",
   "pygments_lexer": "ipython3",
   "version": "3.7.3"
  }
 },
 "nbformat": 4,
 "nbformat_minor": 4
}
